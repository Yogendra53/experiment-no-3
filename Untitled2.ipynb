{
  "nbformat": 4,
  "nbformat_minor": 0,
  "metadata": {
    "colab": {
      "name": "Untitled2.ipynb",
      "provenance": []
    },
    "kernelspec": {
      "name": "python3",
      "display_name": "Python 3"
    },
    "language_info": {
      "name": "python"
    }
  },
  "cells": [
    {
      "cell_type": "markdown",
      "source": [
        "write a program to perform different arithmetic operations on number in python"
      ],
      "metadata": {
        "id": "mluxYobExeOX"
      }
    },
    {
      "cell_type": "code",
      "execution_count": 15,
      "metadata": {
        "colab": {
          "base_uri": "https://localhost:8080/"
        },
        "id": "RW8hffcgxbEs",
        "outputId": "a9670787-7fb8-4a0e-fc42-b98773197d24"
      },
      "outputs": [
        {
          "output_type": "stream",
          "name": "stdout",
          "text": [
            "5\n",
            "3\n",
            "6\n",
            "5.0\n",
            "2\n",
            "27\n",
            "4\n"
          ]
        }
      ],
      "source": [
        "a = 2\n",
        "b = 3\n",
        "\n",
        "print(a+b)\n",
        "\n",
        "\n",
        "a = 6\n",
        "b = 3\n",
        "\n",
        "print(a-b)\n",
        "\n",
        "\n",
        "a = 2\n",
        "b = 3\n",
        "\n",
        "print(a * b)\n",
        "\n",
        "a= 15\n",
        "b = 3\n",
        "\n",
        "print(a / b)\n",
        "\n",
        "a = 5\n",
        "b = 3\n",
        "\n",
        "print(a % b)\n",
        "\n",
        "a= 3\n",
        "b= 3\n",
        "\n",
        "print(a ** b) \n",
        "\n",
        "a = 12\n",
        "b = 3\n",
        "\n",
        "print(a // b)\n",
        "\n",
        "#the floor division // rounds the result down to the nearest whole number\n"
      ]
    },
    {
      "cell_type": "markdown",
      "source": [
        ""
      ],
      "metadata": {
        "id": "ErPW1AXBxb5Y"
      }
    }
  ]
}